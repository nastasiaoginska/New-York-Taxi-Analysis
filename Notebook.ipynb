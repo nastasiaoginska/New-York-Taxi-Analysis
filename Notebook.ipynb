{
 "cells": [
  {
   "cell_type": "code",
   "execution_count": 7,
   "id": "4119a244-35fb-4b1b-95f9-3e4cf50ccc90",
   "metadata": {},
   "outputs": [],
   "source": [
    "import pandas as pd "
   ]
  },
  {
   "cell_type": "code",
   "execution_count": 8,
   "id": "91e559b7-d4f3-44c4-b5e7-64287c8d1561",
   "metadata": {},
   "outputs": [],
   "source": [
    "taxi_df = pd.read_parquet('Data/yellow_tripdata_2025-03.parquet')"
   ]
  },
  {
   "cell_type": "code",
   "execution_count": 9,
   "id": "ccf09aa1-04dc-457f-8a9a-53827826453c",
   "metadata": {},
   "outputs": [
    {
     "data": {
      "text/html": [
       "<div>\n",
       "<style scoped>\n",
       "    .dataframe tbody tr th:only-of-type {\n",
       "        vertical-align: middle;\n",
       "    }\n",
       "\n",
       "    .dataframe tbody tr th {\n",
       "        vertical-align: top;\n",
       "    }\n",
       "\n",
       "    .dataframe thead th {\n",
       "        text-align: right;\n",
       "    }\n",
       "</style>\n",
       "<table border=\"1\" class=\"dataframe\">\n",
       "  <thead>\n",
       "    <tr style=\"text-align: right;\">\n",
       "      <th></th>\n",
       "      <th>VendorID</th>\n",
       "      <th>tpep_pickup_datetime</th>\n",
       "      <th>tpep_dropoff_datetime</th>\n",
       "      <th>passenger_count</th>\n",
       "      <th>trip_distance</th>\n",
       "      <th>RatecodeID</th>\n",
       "      <th>store_and_fwd_flag</th>\n",
       "      <th>PULocationID</th>\n",
       "      <th>DOLocationID</th>\n",
       "      <th>payment_type</th>\n",
       "      <th>fare_amount</th>\n",
       "      <th>extra</th>\n",
       "      <th>mta_tax</th>\n",
       "      <th>tip_amount</th>\n",
       "      <th>tolls_amount</th>\n",
       "      <th>improvement_surcharge</th>\n",
       "      <th>total_amount</th>\n",
       "      <th>congestion_surcharge</th>\n",
       "      <th>Airport_fee</th>\n",
       "      <th>cbd_congestion_fee</th>\n",
       "    </tr>\n",
       "  </thead>\n",
       "  <tbody>\n",
       "    <tr>\n",
       "      <th>0</th>\n",
       "      <td>1</td>\n",
       "      <td>2025-03-01 00:17:16</td>\n",
       "      <td>2025-03-01 00:25:52</td>\n",
       "      <td>1.0</td>\n",
       "      <td>0.90</td>\n",
       "      <td>1.0</td>\n",
       "      <td>N</td>\n",
       "      <td>140</td>\n",
       "      <td>236</td>\n",
       "      <td>1</td>\n",
       "      <td>7.9</td>\n",
       "      <td>3.50</td>\n",
       "      <td>0.5</td>\n",
       "      <td>2.60</td>\n",
       "      <td>0.0</td>\n",
       "      <td>1.0</td>\n",
       "      <td>15.50</td>\n",
       "      <td>2.5</td>\n",
       "      <td>0.0</td>\n",
       "      <td>0.00</td>\n",
       "    </tr>\n",
       "    <tr>\n",
       "      <th>1</th>\n",
       "      <td>1</td>\n",
       "      <td>2025-03-01 00:37:38</td>\n",
       "      <td>2025-03-01 00:43:51</td>\n",
       "      <td>1.0</td>\n",
       "      <td>0.60</td>\n",
       "      <td>1.0</td>\n",
       "      <td>N</td>\n",
       "      <td>140</td>\n",
       "      <td>262</td>\n",
       "      <td>1</td>\n",
       "      <td>6.5</td>\n",
       "      <td>3.50</td>\n",
       "      <td>0.5</td>\n",
       "      <td>2.30</td>\n",
       "      <td>0.0</td>\n",
       "      <td>1.0</td>\n",
       "      <td>13.80</td>\n",
       "      <td>2.5</td>\n",
       "      <td>0.0</td>\n",
       "      <td>0.00</td>\n",
       "    </tr>\n",
       "    <tr>\n",
       "      <th>2</th>\n",
       "      <td>2</td>\n",
       "      <td>2025-03-01 00:24:35</td>\n",
       "      <td>2025-03-01 00:39:49</td>\n",
       "      <td>1.0</td>\n",
       "      <td>1.94</td>\n",
       "      <td>1.0</td>\n",
       "      <td>N</td>\n",
       "      <td>161</td>\n",
       "      <td>68</td>\n",
       "      <td>1</td>\n",
       "      <td>14.9</td>\n",
       "      <td>1.00</td>\n",
       "      <td>0.5</td>\n",
       "      <td>5.16</td>\n",
       "      <td>0.0</td>\n",
       "      <td>1.0</td>\n",
       "      <td>25.81</td>\n",
       "      <td>2.5</td>\n",
       "      <td>0.0</td>\n",
       "      <td>0.75</td>\n",
       "    </tr>\n",
       "    <tr>\n",
       "      <th>3</th>\n",
       "      <td>2</td>\n",
       "      <td>2025-03-01 00:56:16</td>\n",
       "      <td>2025-03-01 01:01:35</td>\n",
       "      <td>2.0</td>\n",
       "      <td>0.95</td>\n",
       "      <td>1.0</td>\n",
       "      <td>N</td>\n",
       "      <td>231</td>\n",
       "      <td>13</td>\n",
       "      <td>1</td>\n",
       "      <td>7.2</td>\n",
       "      <td>1.00</td>\n",
       "      <td>0.5</td>\n",
       "      <td>2.59</td>\n",
       "      <td>0.0</td>\n",
       "      <td>1.0</td>\n",
       "      <td>15.54</td>\n",
       "      <td>2.5</td>\n",
       "      <td>0.0</td>\n",
       "      <td>0.75</td>\n",
       "    </tr>\n",
       "    <tr>\n",
       "      <th>4</th>\n",
       "      <td>1</td>\n",
       "      <td>2025-03-01 00:01:44</td>\n",
       "      <td>2025-03-01 00:10:00</td>\n",
       "      <td>1.0</td>\n",
       "      <td>1.50</td>\n",
       "      <td>1.0</td>\n",
       "      <td>N</td>\n",
       "      <td>163</td>\n",
       "      <td>236</td>\n",
       "      <td>1</td>\n",
       "      <td>8.6</td>\n",
       "      <td>4.25</td>\n",
       "      <td>0.5</td>\n",
       "      <td>2.85</td>\n",
       "      <td>0.0</td>\n",
       "      <td>1.0</td>\n",
       "      <td>17.20</td>\n",
       "      <td>2.5</td>\n",
       "      <td>0.0</td>\n",
       "      <td>0.75</td>\n",
       "    </tr>\n",
       "  </tbody>\n",
       "</table>\n",
       "</div>"
      ],
      "text/plain": [
       "   VendorID tpep_pickup_datetime tpep_dropoff_datetime  passenger_count  \\\n",
       "0         1  2025-03-01 00:17:16   2025-03-01 00:25:52              1.0   \n",
       "1         1  2025-03-01 00:37:38   2025-03-01 00:43:51              1.0   \n",
       "2         2  2025-03-01 00:24:35   2025-03-01 00:39:49              1.0   \n",
       "3         2  2025-03-01 00:56:16   2025-03-01 01:01:35              2.0   \n",
       "4         1  2025-03-01 00:01:44   2025-03-01 00:10:00              1.0   \n",
       "\n",
       "   trip_distance  RatecodeID store_and_fwd_flag  PULocationID  DOLocationID  \\\n",
       "0           0.90         1.0                  N           140           236   \n",
       "1           0.60         1.0                  N           140           262   \n",
       "2           1.94         1.0                  N           161            68   \n",
       "3           0.95         1.0                  N           231            13   \n",
       "4           1.50         1.0                  N           163           236   \n",
       "\n",
       "   payment_type  fare_amount  extra  mta_tax  tip_amount  tolls_amount  \\\n",
       "0             1          7.9   3.50      0.5        2.60           0.0   \n",
       "1             1          6.5   3.50      0.5        2.30           0.0   \n",
       "2             1         14.9   1.00      0.5        5.16           0.0   \n",
       "3             1          7.2   1.00      0.5        2.59           0.0   \n",
       "4             1          8.6   4.25      0.5        2.85           0.0   \n",
       "\n",
       "   improvement_surcharge  total_amount  congestion_surcharge  Airport_fee  \\\n",
       "0                    1.0         15.50                   2.5          0.0   \n",
       "1                    1.0         13.80                   2.5          0.0   \n",
       "2                    1.0         25.81                   2.5          0.0   \n",
       "3                    1.0         15.54                   2.5          0.0   \n",
       "4                    1.0         17.20                   2.5          0.0   \n",
       "\n",
       "   cbd_congestion_fee  \n",
       "0                0.00  \n",
       "1                0.00  \n",
       "2                0.75  \n",
       "3                0.75  \n",
       "4                0.75  "
      ]
     },
     "execution_count": 9,
     "metadata": {},
     "output_type": "execute_result"
    }
   ],
   "source": [
    "taxi_df.head()"
   ]
  },
  {
   "cell_type": "code",
   "execution_count": 10,
   "id": "fdd58b29-402d-4ec2-96fa-efd561e77be5",
   "metadata": {},
   "outputs": [
    {
     "data": {
      "text/plain": [
       "(4145257, 20)"
      ]
     },
     "execution_count": 10,
     "metadata": {},
     "output_type": "execute_result"
    }
   ],
   "source": [
    "taxi_df.shape"
   ]
  },
  {
   "cell_type": "code",
   "execution_count": 11,
   "id": "52346a65-f142-4977-a133-3e2d4bc58bd2",
   "metadata": {},
   "outputs": [],
   "source": [
    "taxi_df['pickup_dt']  = pd.to_datetime(taxi_df['tpep_pickup_datetime'])\n",
    "taxi_df['dropoff_dt'] = pd.to_datetime(taxi_df['tpep_dropoff_datetime'])\n",
    "\n",
    "taxi_df['duration_min'] = (taxi_df['dropoff_dt'] - taxi_df['pickup_dt']).dt.total_seconds() / 60"
   ]
  },
  {
   "cell_type": "code",
   "execution_count": 14,
   "id": "f4778bab-6cf8-4b6a-97c8-4e2205fc3590",
   "metadata": {},
   "outputs": [
    {
     "data": {
      "text/html": [
       "<div>\n",
       "<style scoped>\n",
       "    .dataframe tbody tr th:only-of-type {\n",
       "        vertical-align: middle;\n",
       "    }\n",
       "\n",
       "    .dataframe tbody tr th {\n",
       "        vertical-align: top;\n",
       "    }\n",
       "\n",
       "    .dataframe thead th {\n",
       "        text-align: right;\n",
       "    }\n",
       "</style>\n",
       "<table border=\"1\" class=\"dataframe\">\n",
       "  <thead>\n",
       "    <tr style=\"text-align: right;\">\n",
       "      <th></th>\n",
       "      <th>duration_min</th>\n",
       "    </tr>\n",
       "  </thead>\n",
       "  <tbody>\n",
       "    <tr>\n",
       "      <th>0</th>\n",
       "      <td>8.600000</td>\n",
       "    </tr>\n",
       "    <tr>\n",
       "      <th>1</th>\n",
       "      <td>6.216667</td>\n",
       "    </tr>\n",
       "    <tr>\n",
       "      <th>2</th>\n",
       "      <td>15.233333</td>\n",
       "    </tr>\n",
       "    <tr>\n",
       "      <th>3</th>\n",
       "      <td>5.316667</td>\n",
       "    </tr>\n",
       "    <tr>\n",
       "      <th>4</th>\n",
       "      <td>8.266667</td>\n",
       "    </tr>\n",
       "  </tbody>\n",
       "</table>\n",
       "</div>"
      ],
      "text/plain": [
       "   duration_min\n",
       "0      8.600000\n",
       "1      6.216667\n",
       "2     15.233333\n",
       "3      5.316667\n",
       "4      8.266667"
      ]
     },
     "execution_count": 14,
     "metadata": {},
     "output_type": "execute_result"
    }
   ],
   "source": [
    "taxi_df[['duration_min']].head()"
   ]
  },
  {
   "cell_type": "code",
   "execution_count": 15,
   "id": "24dc737a-262b-4242-9189-afb405976d12",
   "metadata": {},
   "outputs": [],
   "source": [
    "taxi_df['duration_hr'] = taxi_df['duration_min'] / 60"
   ]
  },
  {
   "cell_type": "code",
   "execution_count": 16,
   "id": "a6c4eaf2-7a76-44e2-a2c5-981b3a24d2c3",
   "metadata": {},
   "outputs": [
    {
     "data": {
      "text/html": [
       "<div>\n",
       "<style scoped>\n",
       "    .dataframe tbody tr th:only-of-type {\n",
       "        vertical-align: middle;\n",
       "    }\n",
       "\n",
       "    .dataframe tbody tr th {\n",
       "        vertical-align: top;\n",
       "    }\n",
       "\n",
       "    .dataframe thead th {\n",
       "        text-align: right;\n",
       "    }\n",
       "</style>\n",
       "<table border=\"1\" class=\"dataframe\">\n",
       "  <thead>\n",
       "    <tr style=\"text-align: right;\">\n",
       "      <th></th>\n",
       "      <th>duration_hr</th>\n",
       "    </tr>\n",
       "  </thead>\n",
       "  <tbody>\n",
       "    <tr>\n",
       "      <th>0</th>\n",
       "      <td>0.143333</td>\n",
       "    </tr>\n",
       "    <tr>\n",
       "      <th>1</th>\n",
       "      <td>0.103611</td>\n",
       "    </tr>\n",
       "    <tr>\n",
       "      <th>2</th>\n",
       "      <td>0.253889</td>\n",
       "    </tr>\n",
       "    <tr>\n",
       "      <th>3</th>\n",
       "      <td>0.088611</td>\n",
       "    </tr>\n",
       "    <tr>\n",
       "      <th>4</th>\n",
       "      <td>0.137778</td>\n",
       "    </tr>\n",
       "  </tbody>\n",
       "</table>\n",
       "</div>"
      ],
      "text/plain": [
       "   duration_hr\n",
       "0     0.143333\n",
       "1     0.103611\n",
       "2     0.253889\n",
       "3     0.088611\n",
       "4     0.137778"
      ]
     },
     "execution_count": 16,
     "metadata": {},
     "output_type": "execute_result"
    }
   ],
   "source": [
    "taxi_df[['duration_hr']].head()"
   ]
  },
  {
   "cell_type": "code",
   "execution_count": 17,
   "id": "cdcad1b7-d8d6-4d3c-8bcc-fabcf3309f2b",
   "metadata": {},
   "outputs": [],
   "source": [
    "taxi_df['speed_mph'] = taxi_df['trip_distance'] / taxi_df['duration_hr']"
   ]
  },
  {
   "cell_type": "code",
   "execution_count": 18,
   "id": "41205437-b2f9-4fe8-bfb1-12ea7308a54f",
   "metadata": {},
   "outputs": [
    {
     "data": {
      "text/html": [
       "<div>\n",
       "<style scoped>\n",
       "    .dataframe tbody tr th:only-of-type {\n",
       "        vertical-align: middle;\n",
       "    }\n",
       "\n",
       "    .dataframe tbody tr th {\n",
       "        vertical-align: top;\n",
       "    }\n",
       "\n",
       "    .dataframe thead th {\n",
       "        text-align: right;\n",
       "    }\n",
       "</style>\n",
       "<table border=\"1\" class=\"dataframe\">\n",
       "  <thead>\n",
       "    <tr style=\"text-align: right;\">\n",
       "      <th></th>\n",
       "      <th>speed_mph</th>\n",
       "    </tr>\n",
       "  </thead>\n",
       "  <tbody>\n",
       "    <tr>\n",
       "      <th>0</th>\n",
       "      <td>6.279070</td>\n",
       "    </tr>\n",
       "    <tr>\n",
       "      <th>1</th>\n",
       "      <td>5.790885</td>\n",
       "    </tr>\n",
       "    <tr>\n",
       "      <th>2</th>\n",
       "      <td>7.641138</td>\n",
       "    </tr>\n",
       "    <tr>\n",
       "      <th>3</th>\n",
       "      <td>10.721003</td>\n",
       "    </tr>\n",
       "    <tr>\n",
       "      <th>4</th>\n",
       "      <td>10.887097</td>\n",
       "    </tr>\n",
       "  </tbody>\n",
       "</table>\n",
       "</div>"
      ],
      "text/plain": [
       "   speed_mph\n",
       "0   6.279070\n",
       "1   5.790885\n",
       "2   7.641138\n",
       "3  10.721003\n",
       "4  10.887097"
      ]
     },
     "execution_count": 18,
     "metadata": {},
     "output_type": "execute_result"
    }
   ],
   "source": [
    "taxi_df[['speed_mph']].head()"
   ]
  },
  {
   "cell_type": "code",
   "execution_count": 19,
   "id": "41e00e83-17fc-400b-ac9d-27ab0f1f337b",
   "metadata": {},
   "outputs": [],
   "source": [
    "low_speed = taxi_df[(taxi_df['speed_mph'] < 3) & (taxi_df['trip_distance'] > 0.5)]"
   ]
  },
  {
   "cell_type": "code",
   "execution_count": 20,
   "id": "881ecc19-0f56-4cb9-b803-46392de4b31f",
   "metadata": {},
   "outputs": [],
   "source": [
    "high_speed = taxi_df[taxi_df['speed_mph'] > 60]"
   ]
  },
  {
   "cell_type": "code",
   "execution_count": 21,
   "id": "76f68189-9d22-44d9-a839-8da7ca0ff974",
   "metadata": {},
   "outputs": [
    {
     "data": {
      "text/plain": [
       "((23961, 25), (22693, 25))"
      ]
     },
     "execution_count": 21,
     "metadata": {},
     "output_type": "execute_result"
    }
   ],
   "source": [
    "low_speed.shape, high_speed.shape"
   ]
  },
  {
   "cell_type": "code",
   "execution_count": 22,
   "id": "1c6e1d31-c110-4ecf-814d-f4fa6d3f6db6",
   "metadata": {},
   "outputs": [
    {
     "data": {
      "text/plain": [
       "(np.float64(60.204968944099384), np.float64(inf))"
      ]
     },
     "execution_count": 22,
     "metadata": {},
     "output_type": "execute_result"
    }
   ],
   "source": [
    "high_speed['speed_mph'].min(), high_speed['speed_mph'].max()"
   ]
  },
  {
   "cell_type": "code",
   "execution_count": 24,
   "id": "3ff4d65a-1bc8-45ce-a497-7ed950c866db",
   "metadata": {
    "scrolled": true
   },
   "outputs": [
    {
     "data": {
      "text/plain": [
       "speed_group\n",
       "500+       34.293680\n",
       "100-200    20.631970\n",
       "60-80      19.144981\n",
       "200-500    17.657993\n",
       "80-100      8.271375\n",
       "Name: proportion, dtype: float64"
      ]
     },
     "execution_count": 24,
     "metadata": {},
     "output_type": "execute_result"
    }
   ],
   "source": [
    "bins = [60, 80, 100, 200, 500, 10000]\n",
    "labels = ['60-80', '80-100', '100-200', '200-500', '500+']\n",
    "\n",
    "high_speed.loc[:, 'speed_group'] = pd.cut(high_speed['speed_mph'], bins=bins, labels=labels)\n",
    "\n",
    "high_speed['speed_group'].value_counts(normalize=True) * 100"
   ]
  },
  {
   "cell_type": "code",
   "execution_count": 25,
   "id": "ddea478c-52a2-43f1-bf0a-a1084be496df",
   "metadata": {},
   "outputs": [
    {
     "data": {
      "text/plain": [
       "0.5474449473217222"
      ]
     },
     "execution_count": 25,
     "metadata": {},
     "output_type": "execute_result"
    }
   ],
   "source": [
    "(high_speed.shape[0] / taxi_df.shape[0]) * 100"
   ]
  },
  {
   "cell_type": "code",
   "execution_count": 27,
   "id": "63de580a-1024-4e14-86bb-c74f0b76a9c2",
   "metadata": {},
   "outputs": [
    {
     "data": {
      "text/plain": [
       "store_and_fwd_flag\n",
       "N    99.838464\n",
       "Y     0.161536\n",
       "Name: proportion, dtype: float64"
      ]
     },
     "execution_count": 27,
     "metadata": {},
     "output_type": "execute_result"
    }
   ],
   "source": [
    "high_speed['store_and_fwd_flag'].value_counts(normalize=True) * 100"
   ]
  },
  {
   "cell_type": "code",
   "execution_count": 28,
   "id": "f5a5364a-16d4-4911-a4e2-0ac2e7c40c79",
   "metadata": {},
   "outputs": [
    {
     "data": {
      "text/plain": [
       "VendorID\n",
       "7    94.227295\n",
       "1     2.934826\n",
       "2     2.406028\n",
       "6     0.431851\n",
       "Name: proportion, dtype: float64"
      ]
     },
     "execution_count": 28,
     "metadata": {},
     "output_type": "execute_result"
    }
   ],
   "source": [
    "high_speed['VendorID'].value_counts(normalize=True) * 100"
   ]
  },
  {
   "cell_type": "code",
   "execution_count": 29,
   "id": "d731f68e-1440-48c0-9468-07f9f80bbb3b",
   "metadata": {},
   "outputs": [
    {
     "data": {
      "text/plain": [
       "VendorID\n",
       "2    79.344851\n",
       "1    20.128885\n",
       "7     0.518207\n",
       "6     0.008057\n",
       "Name: proportion, dtype: float64"
      ]
     },
     "execution_count": 29,
     "metadata": {},
     "output_type": "execute_result"
    }
   ],
   "source": [
    "taxi_df['VendorID'].value_counts(normalize=True) * 100"
   ]
  },
  {
   "cell_type": "code",
   "execution_count": null,
   "id": "d22dbfbf-6745-49bc-aaf4-998b0a2f3b29",
   "metadata": {},
   "outputs": [],
   "source": []
  },
  {
   "cell_type": "code",
   "execution_count": null,
   "id": "3496b8fa-71dc-4cc9-9613-5ce67fdcec2b",
   "metadata": {},
   "outputs": [],
   "source": []
  }
 ],
 "metadata": {
  "kernelspec": {
   "display_name": "Python 3 (ipykernel)",
   "language": "python",
   "name": "python3"
  },
  "language_info": {
   "codemirror_mode": {
    "name": "ipython",
    "version": 3
   },
   "file_extension": ".py",
   "mimetype": "text/x-python",
   "name": "python",
   "nbconvert_exporter": "python",
   "pygments_lexer": "ipython3",
   "version": "3.9.6"
  }
 },
 "nbformat": 4,
 "nbformat_minor": 5
}
